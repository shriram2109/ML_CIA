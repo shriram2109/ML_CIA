{
 "cells": [
  {
   "cell_type": "code",
   "execution_count": 4,
   "metadata": {
    "id": "22dT4VPf5jbT"
   },
   "outputs": [],
   "source": [
    "import numpy as np\n",
    "import pandas as pd\n",
    "from keras.datasets import cifar10\n",
    "from keras.models import load_model,save_model,Sequential\n",
    "from keras.layers import Conv2D,MaxPooling2D,Flatten,Dense,Dropout\n",
    "from keras.utils import to_categorical\n",
    "import matplotlib.pyplot as plt"
   ]
  },
  {
   "cell_type": "code",
   "execution_count": 5,
   "metadata": {
    "colab": {
     "base_uri": "https://localhost:8080/"
    },
    "id": "Z1-Rg2CE5046",
    "outputId": "02240c8c-6513-4a26-8477-5c1321b7dabd"
   },
   "outputs": [
    {
     "name": "stdout",
     "output_type": "stream",
     "text": [
      "Downloading data from https://www.cs.toronto.edu/~kriz/cifar-10-python.tar.gz\n",
      "170498071/170498071 [==============================] - 25s 0us/step\n"
     ]
    }
   ],
   "source": [
    "(x_train,y_train),(x_test,y_test) = cifar10.load_data()"
   ]
  },
  {
   "cell_type": "code",
   "execution_count": 6,
   "metadata": {
    "id": "Ja5wBawJ6eG1"
   },
   "outputs": [],
   "source": [
    "x_train = x_train.astype('float32') / 255.0\n",
    "x_test = x_test.astype('float32') / 255.0"
   ]
  },
  {
   "cell_type": "code",
   "execution_count": 7,
   "metadata": {
    "id": "nE13CIsi69Bw"
   },
   "outputs": [],
   "source": [
    "model = Sequential()\n",
    "model.add(Conv2D(64,(3,3),padding='same',activation='relu',input_shape=(32,32,3)))\n",
    "model.add(MaxPooling2D(pool_size=(2,2)))\n",
    "model.add(Conv2D(32,(3,3),padding='same',activation='relu'))\n",
    "model.add(MaxPooling2D(pool_size=(2,2)))\n",
    "model.add(Flatten())\n",
    "model.add(Dense(128,activation='relu'))\n",
    "model.add(Dense(10,activation='softmax'))"
   ]
  },
  {
   "cell_type": "code",
   "execution_count": 8,
   "metadata": {
    "id": "hRXEk9OB7rNX"
   },
   "outputs": [],
   "source": [
    "model.compile(loss='sparse_categorical_crossentropy',optimizer='adam',metrics=['accuracy'])"
   ]
  },
  {
   "cell_type": "code",
   "execution_count": 9,
   "metadata": {
    "colab": {
     "base_uri": "https://localhost:8080/"
    },
    "id": "nH80ueej78A2",
    "outputId": "7f2c674c-64c0-4393-9d7f-e6f6cc81721c"
   },
   "outputs": [
    {
     "name": "stdout",
     "output_type": "stream",
     "text": [
      "Epoch 1/50\n",
      "1563/1563 [==============================] - 83s 51ms/step - loss: 1.3906 - accuracy: 0.5043\n",
      "Epoch 2/50\n",
      "1563/1563 [==============================] - 83s 53ms/step - loss: 1.0397 - accuracy: 0.6345\n",
      "Epoch 3/50\n",
      "1563/1563 [==============================] - 81s 52ms/step - loss: 0.9011 - accuracy: 0.6842\n",
      "Epoch 4/50\n",
      "1563/1563 [==============================] - 80s 51ms/step - loss: 0.8001 - accuracy: 0.7201\n",
      "Epoch 5/50\n",
      "1563/1563 [==============================] - 79s 50ms/step - loss: 0.7202 - accuracy: 0.7478\n",
      "Epoch 6/50\n",
      "1563/1563 [==============================] - 78s 50ms/step - loss: 0.6529 - accuracy: 0.7702\n",
      "Epoch 7/50\n",
      "1563/1563 [==============================] - 80s 51ms/step - loss: 0.5820 - accuracy: 0.7964\n",
      "Epoch 8/50\n",
      "1563/1563 [==============================] - 78s 50ms/step - loss: 0.5203 - accuracy: 0.8167\n",
      "Epoch 9/50\n",
      "1563/1563 [==============================] - 82s 53ms/step - loss: 0.4682 - accuracy: 0.8340\n",
      "Epoch 10/50\n",
      "1563/1563 [==============================] - 78s 50ms/step - loss: 0.4156 - accuracy: 0.8550\n",
      "Epoch 11/50\n",
      "1563/1563 [==============================] - 80s 51ms/step - loss: 0.3648 - accuracy: 0.8720\n",
      "Epoch 12/50\n",
      "1563/1563 [==============================] - 83s 53ms/step - loss: 0.3220 - accuracy: 0.8867\n",
      "Epoch 13/50\n",
      "1563/1563 [==============================] - 80s 51ms/step - loss: 0.2781 - accuracy: 0.9018\n",
      "Epoch 14/50\n",
      "1563/1563 [==============================] - 78s 50ms/step - loss: 0.2535 - accuracy: 0.9093\n",
      "Epoch 15/50\n",
      "1563/1563 [==============================] - 76s 49ms/step - loss: 0.2168 - accuracy: 0.9230\n",
      "Epoch 16/50\n",
      "1563/1563 [==============================] - 78s 50ms/step - loss: 0.2010 - accuracy: 0.9292\n",
      "Epoch 17/50\n",
      "1563/1563 [==============================] - 81s 52ms/step - loss: 0.1765 - accuracy: 0.9361\n",
      "Epoch 18/50\n",
      "1563/1563 [==============================] - 82s 53ms/step - loss: 0.1598 - accuracy: 0.9425\n",
      "Epoch 19/50\n",
      "1563/1563 [==============================] - 78s 50ms/step - loss: 0.1428 - accuracy: 0.9493\n",
      "Epoch 20/50\n",
      "1563/1563 [==============================] - 76s 48ms/step - loss: 0.1326 - accuracy: 0.9527\n",
      "Epoch 21/50\n",
      "1563/1563 [==============================] - 79s 51ms/step - loss: 0.1282 - accuracy: 0.9534\n",
      "Epoch 22/50\n",
      "1563/1563 [==============================] - 76s 49ms/step - loss: 0.1146 - accuracy: 0.9592\n",
      "Epoch 23/50\n",
      "1563/1563 [==============================] - 76s 49ms/step - loss: 0.1131 - accuracy: 0.9596\n",
      "Epoch 24/50\n",
      "1563/1563 [==============================] - 75s 48ms/step - loss: 0.1091 - accuracy: 0.9618\n",
      "Epoch 25/50\n",
      "1563/1563 [==============================] - 78s 50ms/step - loss: 0.0993 - accuracy: 0.9655\n",
      "Epoch 26/50\n",
      "1563/1563 [==============================] - 65s 41ms/step - loss: 0.0918 - accuracy: 0.9684\n",
      "Epoch 27/50\n",
      "1563/1563 [==============================] - 60s 39ms/step - loss: 0.1011 - accuracy: 0.9646\n",
      "Epoch 28/50\n",
      "1563/1563 [==============================] - 63s 40ms/step - loss: 0.0905 - accuracy: 0.9688\n",
      "Epoch 29/50\n",
      "1563/1563 [==============================] - 65s 42ms/step - loss: 0.0939 - accuracy: 0.9678\n",
      "Epoch 30/50\n",
      "1563/1563 [==============================] - 67s 43ms/step - loss: 0.0797 - accuracy: 0.9720\n",
      "Epoch 31/50\n",
      "1563/1563 [==============================] - 67s 43ms/step - loss: 0.0879 - accuracy: 0.9697\n",
      "Epoch 32/50\n",
      "1563/1563 [==============================] - 66s 42ms/step - loss: 0.0713 - accuracy: 0.9755\n",
      "Epoch 33/50\n",
      "1563/1563 [==============================] - 68s 43ms/step - loss: 0.0840 - accuracy: 0.9710\n",
      "Epoch 34/50\n",
      "1563/1563 [==============================] - 68s 43ms/step - loss: 0.0748 - accuracy: 0.9745\n",
      "Epoch 35/50\n",
      "1563/1563 [==============================] - 68s 44ms/step - loss: 0.0840 - accuracy: 0.9722\n",
      "Epoch 36/50\n",
      "1563/1563 [==============================] - 64s 41ms/step - loss: 0.0736 - accuracy: 0.9755\n",
      "Epoch 37/50\n",
      "1563/1563 [==============================] - 69s 44ms/step - loss: 0.0686 - accuracy: 0.9773\n",
      "Epoch 38/50\n",
      "1563/1563 [==============================] - 69s 44ms/step - loss: 0.0752 - accuracy: 0.9752\n",
      "Epoch 39/50\n",
      "1563/1563 [==============================] - 61s 39ms/step - loss: 0.0732 - accuracy: 0.9759\n",
      "Epoch 40/50\n",
      "1563/1563 [==============================] - 61s 39ms/step - loss: 0.0676 - accuracy: 0.9776\n",
      "Epoch 41/50\n",
      "1563/1563 [==============================] - 60s 39ms/step - loss: 0.0721 - accuracy: 0.9769\n",
      "Epoch 42/50\n",
      "1563/1563 [==============================] - 62s 40ms/step - loss: 0.0703 - accuracy: 0.9772\n",
      "Epoch 43/50\n",
      "1563/1563 [==============================] - 55s 35ms/step - loss: 0.0735 - accuracy: 0.9769\n",
      "Epoch 44/50\n",
      "1563/1563 [==============================] - 55s 35ms/step - loss: 0.0609 - accuracy: 0.9808\n",
      "Epoch 45/50\n",
      "1563/1563 [==============================] - 55s 35ms/step - loss: 0.0715 - accuracy: 0.9766\n",
      "Epoch 46/50\n",
      "1563/1563 [==============================] - 55s 35ms/step - loss: 0.0694 - accuracy: 0.9776\n",
      "Epoch 47/50\n",
      "1563/1563 [==============================] - 55s 35ms/step - loss: 0.0655 - accuracy: 0.9799\n",
      "Epoch 48/50\n",
      "1563/1563 [==============================] - 67s 43ms/step - loss: 0.0619 - accuracy: 0.9796\n",
      "Epoch 49/50\n",
      "1563/1563 [==============================] - 67s 43ms/step - loss: 0.0615 - accuracy: 0.9805\n",
      "Epoch 50/50\n",
      "1563/1563 [==============================] - 67s 43ms/step - loss: 0.0584 - accuracy: 0.9814\n"
     ]
    }
   ],
   "source": [
    "history = model.fit(x_train,y_train,epochs=50)"
   ]
  },
  {
   "cell_type": "code",
   "execution_count": 12,
   "metadata": {
    "colab": {
     "base_uri": "https://localhost:8080/",
     "height": 430
    },
    "id": "ge-VDrrf8HXb",
    "outputId": "cdfe9e50-b2ed-4063-9610-5ef256763743"
   },
   "outputs": [
    {
     "data": {
      "image/png": "[encoded data removed]",
      "text/plain": [
       "<Figure size 640x480 with 1 Axes>"
      ]
     },
     "metadata": {},
     "output_type": "display_data"
    }
   ],
   "source": [
    "plt.plot(history.history['accuracy'],label='accuracy')\n",
    "plt.plot(history.history['loss'],label='loss')\n",
    "plt.legend()\n",
    "plt.show()"
   ]
  },
  {
   "cell_type": "code",
   "execution_count": 13,
   "metadata": {
    "colab": {
     "base_uri": "https://localhost:8080/"
    },
    "id": "A-PNU8l1AOWt",
    "outputId": "65025614-9668-440e-c9af-851376df68a4"
   },
   "outputs": [
    {
     "name": "stdout",
     "output_type": "stream",
     "text": [
      "1/1 [==============================] - 1s 1s/step\n"
     ]
    }
   ],
   "source": [
    "y_pred = model.predict(x_test[0].reshape(1,32,32,3))"
   ]
  },
  {
   "cell_type": "code",
   "execution_count": 14,
   "metadata": {
    "colab": {
     "base_uri": "https://localhost:8080/"
    },
    "id": "FwRzxZWTAd2I",
    "outputId": "85f09ba5-f328-4478-f9df-6335006a5f21"
   },
   "outputs": [
    {
     "data": {
      "text/plain": [
       "3"
      ]
     },
     "execution_count": 14,
     "metadata": {},
     "output_type": "execute_result"
    }
   ],
   "source": [
    "y_pred_label = np.argmax(y_pred)\n",
    "y_pred_label"
   ]
  },
  {
   "cell_type": "code",
   "execution_count": 15,
   "metadata": {
    "colab": {
     "base_uri": "https://localhost:8080/",
     "height": 447
    },
    "id": "stOp2ZOuAlvA",
    "outputId": "257fc6a2-3d93-473d-e834-248d7af7bcf7"
   },
   "outputs": [
    {
     "data": {
      "text/plain": [
       "<matplotlib.image.AxesImage at 0x2358041bcd0>"
      ]
     },
     "execution_count": 15,
     "metadata": {},
     "output_type": "execute_result"
    },
    {
     "data": {
      "image/png": "[encoded data removed]",
      "text/plain": [
       "<Figure size 640x480 with 1 Axes>"
      ]
     },
     "metadata": {},
     "output_type": "display_data"
    }
   ],
   "source": [
    "plt.imshow(x_test[0])"
   ]
  }
 ],
 "metadata": {
  "accelerator": "GPU",
  "colab": {
   "provenance": []
  },
  "gpuClass": "standard",
  "kernelspec": {
   "display_name": "Python 3 (ipykernel)",
   "language": "python",
   "name": "python3"
  },
  "language_info": {
   "codemirror_mode": {
    "name": "ipython",
    "version": 3
   },
   "file_extension": ".py",
   "mimetype": "text/x-python",
   "name": "python",
   "nbconvert_exporter": "python",
   "pygments_lexer": "ipython3",
   "version": "3.10.9"
  }
 },
 "nbformat": 4,
 "nbformat_minor": 1
}
